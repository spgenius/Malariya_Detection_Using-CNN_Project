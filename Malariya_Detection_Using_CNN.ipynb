{
 "cells": [
  {
   "cell_type": "code",
   "execution_count": 29,
   "metadata": {},
   "outputs": [],
   "source": [
    "#Creating CNN from scratch & transfer learning\n",
    "#import the libraries\n",
    "from tensorflow.keras.layers import Input,Lambda, Dense, Flatten, Conv2D\n",
    "from tensorflow.keras.models import Model\n",
    "from tensorflow.keras.applications.vgg19 import VGG19\n",
    "from tensorflow.keras.applications.resnet50 import preprocess_input\n",
    "from tensorflow.keras.preprocessing import image\n",
    "from tensorflow.keras.models import Sequential\n",
    "from tensorflow.keras.preprocessing.image import ImageDataGenerator, load_img\n",
    "import numpy as np\n",
    "from glob import glob\n",
    "import matplotlib.pyplot as plt"
   ]
  },
  {
   "cell_type": "code",
   "execution_count": 30,
   "metadata": {},
   "outputs": [],
   "source": [
    "#resize all the images to below size\n",
    "IMAZE_SIZE= [224,224]\n",
    "train_path= 'Dataset\\Train'\n",
    "valid_path='Dataset\\Test'\n"
   ]
  },
  {
   "cell_type": "code",
   "execution_count": 31,
   "metadata": {},
   "outputs": [
    {
     "data": {
      "text/plain": [
       "['Dataset\\\\Train\\\\Parasite', 'Dataset\\\\Train\\\\Uninfected']"
      ]
     },
     "execution_count": 31,
     "metadata": {},
     "output_type": "execute_result"
    }
   ],
   "source": [
    "#Imported the VGG19 Library, now add preprocessing layer to the front of VGG\n",
    "#Here we will be using imagenet weights, [3] as using RGB channel\n",
    "mobilnet= VGG19(input_shape=IMAZE_SIZE+[3], weights='imagenet', include_top=False)\n",
    "\n",
    "#Don't train existing weights\n",
    "for layer in mobilnet.layers:\n",
    "    layer.trainable=False\n",
    "    \n",
    "#useful for getting numbers of output classes\n",
    "folders= glob('Dataset\\Train\\*')\n",
    "folders"
   ]
  },
  {
   "cell_type": "code",
   "execution_count": 32,
   "metadata": {},
   "outputs": [
    {
     "data": {
      "text/plain": [
       "<KerasTensor: shape=(None, 25088) dtype=float32 (created by layer 'flatten')>"
      ]
     },
     "execution_count": 32,
     "metadata": {},
     "output_type": "execute_result"
    }
   ],
   "source": [
    "#Our layers- you can add more if you want\n",
    "x= Flatten()(mobilnet.output)\n",
    "x"
   ]
  },
  {
   "cell_type": "code",
   "execution_count": 34,
   "metadata": {},
   "outputs": [],
   "source": [
    "prediction= Dense(len(folders), activation='softmax')(x)"
   ]
  },
  {
   "cell_type": "code",
   "execution_count": 35,
   "metadata": {},
   "outputs": [],
   "source": [
    "#create a model object\n",
    "model= Model(inputs=mobilnet.input, outputs=prediction)"
   ]
  },
  {
   "cell_type": "code",
   "execution_count": 36,
   "metadata": {},
   "outputs": [
    {
     "name": "stdout",
     "output_type": "stream",
     "text": [
      "Model: \"model_1\"\n",
      "_________________________________________________________________\n",
      " Layer (type)                Output Shape              Param #   \n",
      "=================================================================\n",
      " input_2 (InputLayer)        [(None, 224, 224, 3)]     0         \n",
      "                                                                 \n",
      " block1_conv1 (Conv2D)       (None, 224, 224, 64)      1792      \n",
      "                                                                 \n",
      " block1_conv2 (Conv2D)       (None, 224, 224, 64)      36928     \n",
      "                                                                 \n",
      " block1_pool (MaxPooling2D)  (None, 112, 112, 64)      0         \n",
      "                                                                 \n",
      " block2_conv1 (Conv2D)       (None, 112, 112, 128)     73856     \n",
      "                                                                 \n",
      " block2_conv2 (Conv2D)       (None, 112, 112, 128)     147584    \n",
      "                                                                 \n",
      " block2_pool (MaxPooling2D)  (None, 56, 56, 128)       0         \n",
      "                                                                 \n",
      " block3_conv1 (Conv2D)       (None, 56, 56, 256)       295168    \n",
      "                                                                 \n",
      " block3_conv2 (Conv2D)       (None, 56, 56, 256)       590080    \n",
      "                                                                 \n",
      " block3_conv3 (Conv2D)       (None, 56, 56, 256)       590080    \n",
      "                                                                 \n",
      " block3_conv4 (Conv2D)       (None, 56, 56, 256)       590080    \n",
      "                                                                 \n",
      " block3_pool (MaxPooling2D)  (None, 28, 28, 256)       0         \n",
      "                                                                 \n",
      " block4_conv1 (Conv2D)       (None, 28, 28, 512)       1180160   \n",
      "                                                                 \n",
      " block4_conv2 (Conv2D)       (None, 28, 28, 512)       2359808   \n",
      "                                                                 \n",
      " block4_conv3 (Conv2D)       (None, 28, 28, 512)       2359808   \n",
      "                                                                 \n",
      " block4_conv4 (Conv2D)       (None, 28, 28, 512)       2359808   \n",
      "                                                                 \n",
      " block4_pool (MaxPooling2D)  (None, 14, 14, 512)       0         \n",
      "                                                                 \n",
      " block5_conv1 (Conv2D)       (None, 14, 14, 512)       2359808   \n",
      "                                                                 \n",
      " block5_conv2 (Conv2D)       (None, 14, 14, 512)       2359808   \n",
      "                                                                 \n",
      " block5_conv3 (Conv2D)       (None, 14, 14, 512)       2359808   \n",
      "                                                                 \n",
      " block5_conv4 (Conv2D)       (None, 14, 14, 512)       2359808   \n",
      "                                                                 \n",
      " block5_pool (MaxPooling2D)  (None, 7, 7, 512)         0         \n",
      "                                                                 \n",
      " flatten (Flatten)           (None, 25088)             0         \n",
      "                                                                 \n",
      " dense_2 (Dense)             (None, 2)                 50178     \n",
      "                                                                 \n",
      "=================================================================\n",
      "Total params: 20,074,562\n",
      "Trainable params: 50,178\n",
      "Non-trainable params: 20,024,384\n",
      "_________________________________________________________________\n"
     ]
    }
   ],
   "source": [
    "#view the structure of the model\n",
    "model.summary()"
   ]
  },
  {
   "cell_type": "code",
   "execution_count": 37,
   "metadata": {},
   "outputs": [],
   "source": [
    "from tensorflow.keras.layers import MaxPooling2D"
   ]
  },
  {
   "cell_type": "code",
   "execution_count": 38,
   "metadata": {},
   "outputs": [
    {
     "name": "stdout",
     "output_type": "stream",
     "text": [
      "Model: \"sequential\"\n",
      "_________________________________________________________________\n",
      " Layer (type)                Output Shape              Param #   \n",
      "=================================================================\n",
      " conv2d (Conv2D)             (None, 224, 224, 16)      208       \n",
      "                                                                 \n",
      " max_pooling2d (MaxPooling2D  (None, 112, 112, 16)     0         \n",
      " )                                                               \n",
      "                                                                 \n",
      " conv2d_1 (Conv2D)           (None, 112, 112, 32)      2080      \n",
      "                                                                 \n",
      " max_pooling2d_1 (MaxPooling  (None, 56, 56, 32)       0         \n",
      " 2D)                                                             \n",
      "                                                                 \n",
      " conv2d_2 (Conv2D)           (None, 56, 56, 64)        8256      \n",
      "                                                                 \n",
      " max_pooling2d_2 (MaxPooling  (None, 28, 28, 64)       0         \n",
      " 2D)                                                             \n",
      "                                                                 \n",
      " flatten_1 (Flatten)         (None, 50176)             0         \n",
      "                                                                 \n",
      " dense_3 (Dense)             (None, 500)               25088500  \n",
      "                                                                 \n",
      " dense_4 (Dense)             (None, 2)                 1002      \n",
      "                                                                 \n",
      "=================================================================\n",
      "Total params: 25,100,046\n",
      "Trainable params: 25,100,046\n",
      "Non-trainable params: 0\n",
      "_________________________________________________________________\n"
     ]
    }
   ],
   "source": [
    "#create model from scratch using CNN\n",
    "model= Sequential()\n",
    "model.add(Conv2D(filters=16, kernel_size=2, padding=\"same\",activation=\"relu\",input_shape=(224,224,3)))\n",
    "model.add(MaxPooling2D(pool_size=2))\n",
    "model.add(Conv2D(filters=32, kernel_size=2,padding=\"same\",activation=\"relu\"))\n",
    "model.add(MaxPooling2D(pool_size=2))\n",
    "model.add(Conv2D(filters=64, kernel_size=2, padding=\"same\",activation=\"relu\"))\n",
    "model.add(MaxPooling2D(pool_size=2))\n",
    "model.add(Flatten())\n",
    "model.add(Dense(500, activation=\"relu\"))\n",
    "model.add(Dense(2, activation=\"softmax\"))\n",
    "model.summary()"
   ]
  },
  {
   "cell_type": "code",
   "execution_count": 39,
   "metadata": {},
   "outputs": [],
   "source": [
    "#tell the model what cost and optimization method to use\n",
    "model.compile(loss='categorical_crossentropy',optimizer='adam',metrics=['accuracy'])\n"
   ]
  },
  {
   "cell_type": "code",
   "execution_count": 40,
   "metadata": {},
   "outputs": [],
   "source": [
    "#Use the Image Data Generator to import the images from the dataset\n",
    "#already did -- It is data augmentation we are doing\n",
    "train_datagen= ImageDataGenerator(rescale=1./255,shear_range=0.2,zoom_range=0.2, horizontal_flip=True)"
   ]
  },
  {
   "cell_type": "code",
   "execution_count": 44,
   "metadata": {},
   "outputs": [],
   "source": [
    "test_datagen= ImageDataGenerator(rescale=1./255)"
   ]
  },
  {
   "cell_type": "code",
   "execution_count": 41,
   "metadata": {},
   "outputs": [
    {
     "name": "stdout",
     "output_type": "stream",
     "text": [
      "Found 416 images belonging to 2 classes.\n"
     ]
    }
   ],
   "source": [
    "#Make sure you provide the same target size as initialized for the image size\n",
    "training_set= train_datagen.flow_from_directory('Dataset/Train', target_size=(224,224), batch_size=32, class_mode='categorical')"
   ]
  },
  {
   "cell_type": "code",
   "execution_count": 42,
   "metadata": {},
   "outputs": [
    {
     "data": {
      "text/plain": [
       "<keras.preprocessing.image.DirectoryIterator at 0x8b8042a310>"
      ]
     },
     "execution_count": 42,
     "metadata": {},
     "output_type": "execute_result"
    }
   ],
   "source": [
    "training_set"
   ]
  },
  {
   "cell_type": "code",
   "execution_count": 45,
   "metadata": {},
   "outputs": [
    {
     "name": "stdout",
     "output_type": "stream",
     "text": [
      "Found 134 images belonging to 2 classes.\n"
     ]
    }
   ],
   "source": [
    "test_set= test_datagen.flow_from_directory('Dataset/Test', target_size=(224,224),batch_size=32, class_mode='categorical')"
   ]
  },
  {
   "cell_type": "code",
   "execution_count": 46,
   "metadata": {},
   "outputs": [
    {
     "name": "stderr",
     "output_type": "stream",
     "text": [
      "<ipython-input-46-806a8af6c07b>:3: UserWarning: `Model.fit_generator` is deprecated and will be removed in a future version. Please use `Model.fit`, which supports generators.\n",
      "  r=model.fit_generator(training_set, validation_data=test_set,epochs=30,steps_per_epoch=len(training_set),validation_steps=len(test_set))\n"
     ]
    },
    {
     "name": "stdout",
     "output_type": "stream",
     "text": [
      "Epoch 1/30\n",
      "13/13 [==============================] - 60s 4s/step - loss: 1.0926 - accuracy: 0.5168 - val_loss: 0.6696 - val_accuracy: 0.6791\n",
      "Epoch 2/30\n",
      "13/13 [==============================] - 50s 4s/step - loss: 0.6765 - accuracy: 0.5841 - val_loss: 0.7560 - val_accuracy: 0.3433\n",
      "Epoch 3/30\n",
      "13/13 [==============================] - 50s 4s/step - loss: 0.5949 - accuracy: 0.6562 - val_loss: 0.7790 - val_accuracy: 0.4104\n",
      "Epoch 4/30\n",
      "13/13 [==============================] - 48s 4s/step - loss: 0.5330 - accuracy: 0.7019 - val_loss: 0.9035 - val_accuracy: 0.4104\n",
      "Epoch 5/30\n",
      "13/13 [==============================] - 50s 4s/step - loss: 0.5036 - accuracy: 0.7428 - val_loss: 0.9036 - val_accuracy: 0.4403\n",
      "Epoch 6/30\n",
      "13/13 [==============================] - 49s 4s/step - loss: 0.4687 - accuracy: 0.7428 - val_loss: 0.8011 - val_accuracy: 0.4925\n",
      "Epoch 7/30\n",
      "13/13 [==============================] - 50s 4s/step - loss: 0.4130 - accuracy: 0.7981 - val_loss: 0.6457 - val_accuracy: 0.5970\n",
      "Epoch 8/30\n",
      "13/13 [==============================] - 48s 4s/step - loss: 0.3715 - accuracy: 0.8365 - val_loss: 0.6752 - val_accuracy: 0.5672\n",
      "Epoch 9/30\n",
      "13/13 [==============================] - 50s 4s/step - loss: 0.3055 - accuracy: 0.8774 - val_loss: 0.6231 - val_accuracy: 0.6343\n",
      "Epoch 10/30\n",
      "13/13 [==============================] - 54s 4s/step - loss: 0.2863 - accuracy: 0.8942 - val_loss: 0.4209 - val_accuracy: 0.8209\n",
      "Epoch 11/30\n",
      "13/13 [==============================] - 52s 4s/step - loss: 0.2468 - accuracy: 0.9087 - val_loss: 0.4849 - val_accuracy: 0.7463\n",
      "Epoch 12/30\n",
      "13/13 [==============================] - 56s 4s/step - loss: 0.2474 - accuracy: 0.9207 - val_loss: 0.3712 - val_accuracy: 0.8284\n",
      "Epoch 13/30\n",
      "13/13 [==============================] - 53s 4s/step - loss: 0.2059 - accuracy: 0.9279 - val_loss: 0.3775 - val_accuracy: 0.8284\n",
      "Epoch 14/30\n",
      "13/13 [==============================] - 49s 4s/step - loss: 0.1641 - accuracy: 0.9471 - val_loss: 0.5290 - val_accuracy: 0.7313\n",
      "Epoch 15/30\n",
      "13/13 [==============================] - 49s 4s/step - loss: 0.1476 - accuracy: 0.9615 - val_loss: 0.4837 - val_accuracy: 0.7687\n",
      "Epoch 16/30\n",
      "13/13 [==============================] - 49s 4s/step - loss: 0.1972 - accuracy: 0.9231 - val_loss: 0.3887 - val_accuracy: 0.7910\n",
      "Epoch 17/30\n",
      "13/13 [==============================] - 53s 4s/step - loss: 0.1856 - accuracy: 0.9375 - val_loss: 0.3524 - val_accuracy: 0.8358\n",
      "Epoch 18/30\n",
      "13/13 [==============================] - 57s 4s/step - loss: 0.1235 - accuracy: 0.9639 - val_loss: 0.3196 - val_accuracy: 0.8657\n",
      "Epoch 19/30\n",
      "13/13 [==============================] - 55s 4s/step - loss: 0.1163 - accuracy: 0.9543 - val_loss: 0.3817 - val_accuracy: 0.8284\n",
      "Epoch 20/30\n",
      "13/13 [==============================] - 53s 4s/step - loss: 0.1066 - accuracy: 0.9615 - val_loss: 0.3699 - val_accuracy: 0.8507\n",
      "Epoch 21/30\n",
      "13/13 [==============================] - 55s 4s/step - loss: 0.0811 - accuracy: 0.9784 - val_loss: 0.3317 - val_accuracy: 0.8507\n",
      "Epoch 22/30\n",
      "13/13 [==============================] - 61s 5s/step - loss: 0.0689 - accuracy: 0.9760 - val_loss: 0.4009 - val_accuracy: 0.8507\n",
      "Epoch 23/30\n",
      "13/13 [==============================] - 64s 5s/step - loss: 0.1097 - accuracy: 0.9712 - val_loss: 0.2134 - val_accuracy: 0.9328\n",
      "Epoch 24/30\n",
      "13/13 [==============================] - 61s 5s/step - loss: 0.0672 - accuracy: 0.9832 - val_loss: 0.3826 - val_accuracy: 0.8582\n",
      "Epoch 25/30\n",
      "13/13 [==============================] - 57s 4s/step - loss: 0.1194 - accuracy: 0.9543 - val_loss: 0.7208 - val_accuracy: 0.7687\n",
      "Epoch 26/30\n",
      "13/13 [==============================] - 58s 4s/step - loss: 0.1258 - accuracy: 0.9688 - val_loss: 0.1832 - val_accuracy: 0.9254\n",
      "Epoch 27/30\n",
      "13/13 [==============================] - 58s 4s/step - loss: 0.0646 - accuracy: 0.9808 - val_loss: 0.1620 - val_accuracy: 0.9328\n",
      "Epoch 28/30\n",
      "13/13 [==============================] - 57s 4s/step - loss: 0.0605 - accuracy: 0.9808 - val_loss: 0.2917 - val_accuracy: 0.8806\n",
      "Epoch 29/30\n",
      "13/13 [==============================] - 60s 4s/step - loss: 0.0709 - accuracy: 0.9832 - val_loss: 0.3147 - val_accuracy: 0.8731\n",
      "Epoch 30/30\n",
      "13/13 [==============================] - 56s 4s/step - loss: 0.0537 - accuracy: 0.9832 - val_loss: 0.1970 - val_accuracy: 0.9328\n"
     ]
    }
   ],
   "source": [
    "#fit the model\n",
    "#run the cell. It will take some time to execute\n",
    "r=model.fit_generator(training_set, validation_data=test_set,epochs=30,steps_per_epoch=len(training_set),validation_steps=len(test_set))"
   ]
  },
  {
   "cell_type": "code",
   "execution_count": 47,
   "metadata": {},
   "outputs": [
    {
     "data": {
      "image/png": "[encoded data removed]",
      "text/plain": [
       "<Figure size 432x288 with 1 Axes>"
      ]
     },
     "metadata": {
      "needs_background": "light"
     },
     "output_type": "display_data"
    },
    {
     "data": {
      "text/plain": [
       "<Figure size 432x288 with 0 Axes>"
      ]
     },
     "metadata": {},
     "output_type": "display_data"
    }
   ],
   "source": [
    "#plot the loss\n",
    "plt.plot(r.history['loss'], label='train loss')\n",
    "plt.plot(r.history['val_loss'], label='val loss')\n",
    "plt.legend()\n",
    "plt.show()\n",
    "plt.savefig('Loss_Val_Loss')"
   ]
  },
  {
   "cell_type": "code",
   "execution_count": 48,
   "metadata": {},
   "outputs": [
    {
     "data": {
      "image/png": "[encoded data removed]",
      "text/plain": [
       "<Figure size 432x288 with 1 Axes>"
      ]
     },
     "metadata": {
      "needs_background": "light"
     },
     "output_type": "display_data"
    },
    {
     "data": {
      "text/plain": [
       "<Figure size 432x288 with 0 Axes>"
      ]
     },
     "metadata": {},
     "output_type": "display_data"
    }
   ],
   "source": [
    "#Plot the accuracy\n",
    "plt.plot(r.history['accuracy'], label='train accuracy')\n",
    "plt.plot(r.history['val_accuracy'], label='test accuracy')\n",
    "plt.legend()\n",
    "plt.show()\n",
    "plt.savefig('Accuracy')"
   ]
  },
  {
   "cell_type": "code",
   "execution_count": 53,
   "metadata": {},
   "outputs": [],
   "source": [
    "#Save it as a h5 file\n",
    "from tensorflow.keras.models import load_model\n",
    "model.save('model_vgg19.h5')"
   ]
  },
  {
   "cell_type": "code",
   "execution_count": 54,
   "metadata": {},
   "outputs": [
    {
     "data": {
      "text/plain": [
       "array([[1.57584995e-02, 9.84241545e-01],\n",
       "       [9.95231807e-01, 4.76813409e-03],\n",
       "       [9.99995708e-01, 4.34746289e-06],\n",
       "       [9.99996185e-01, 3.79614858e-06],\n",
       "       [9.96920347e-01, 3.07964464e-03],\n",
       "       [1.05320672e-02, 9.89467919e-01],\n",
       "       [9.99998927e-01, 1.11815575e-06],\n",
       "       [7.36138701e-01, 2.63861358e-01],\n",
       "       [1.00000000e+00, 2.59137387e-08],\n",
       "       [9.99935031e-01, 6.49915382e-05],\n",
       "       [2.09480077e-01, 7.90519953e-01],\n",
       "       [1.30485361e-02, 9.86951470e-01],\n",
       "       [1.00000000e+00, 1.61033006e-10],\n",
       "       [9.09357667e-01, 9.06423554e-02],\n",
       "       [1.00000000e+00, 9.63553948e-09],\n",
       "       [1.83881093e-02, 9.81611907e-01],\n",
       "       [3.98118943e-02, 9.60188031e-01],\n",
       "       [4.56878453e-01, 5.43121576e-01],\n",
       "       [1.00000000e+00, 3.25901076e-14],\n",
       "       [3.32688466e-02, 9.66731071e-01],\n",
       "       [2.23463699e-02, 9.77653563e-01],\n",
       "       [2.97428481e-02, 9.70257223e-01],\n",
       "       [9.99964714e-01, 3.53183750e-05],\n",
       "       [2.81712394e-02, 9.71828759e-01],\n",
       "       [9.99730408e-01, 2.69520766e-04],\n",
       "       [1.97637022e-01, 8.02362978e-01],\n",
       "       [1.98855177e-01, 8.01144838e-01],\n",
       "       [1.58295296e-02, 9.84170437e-01],\n",
       "       [9.99897718e-01, 1.02258302e-04],\n",
       "       [9.99999642e-01, 3.91596814e-07],\n",
       "       [9.99980330e-01, 1.97169356e-05],\n",
       "       [1.00000000e+00, 4.67552312e-19],\n",
       "       [9.99922633e-01, 7.73645370e-05],\n",
       "       [6.55474216e-02, 9.34452593e-01],\n",
       "       [2.49198377e-02, 9.75080192e-01],\n",
       "       [9.99998093e-01, 1.93337883e-06],\n",
       "       [2.64248587e-02, 9.73575175e-01],\n",
       "       [2.26625185e-02, 9.77337480e-01],\n",
       "       [8.82020414e-01, 1.17979571e-01],\n",
       "       [9.99948859e-01, 5.10870013e-05],\n",
       "       [1.54322293e-02, 9.84567761e-01],\n",
       "       [9.13264930e-01, 8.67350698e-02],\n",
       "       [9.99000013e-01, 9.99948825e-04],\n",
       "       [9.99999642e-01, 3.96686943e-07],\n",
       "       [1.77414082e-02, 9.82258558e-01],\n",
       "       [9.99888897e-01, 1.11042667e-04],\n",
       "       [3.37489769e-02, 9.66251075e-01],\n",
       "       [1.00000000e+00, 2.22462484e-13],\n",
       "       [9.99969363e-01, 3.06346665e-05],\n",
       "       [7.69145489e-02, 9.23085451e-01],\n",
       "       [9.95617390e-01, 4.38258378e-03],\n",
       "       [7.85976470e-01, 2.14023530e-01],\n",
       "       [6.03684843e-01, 3.96315157e-01],\n",
       "       [9.99999881e-01, 7.38688399e-08],\n",
       "       [9.99969602e-01, 3.04228070e-05],\n",
       "       [1.37066785e-02, 9.86293316e-01],\n",
       "       [3.61391120e-02, 9.63860929e-01],\n",
       "       [4.05474901e-02, 9.59452450e-01],\n",
       "       [9.99933720e-01, 6.63188112e-05],\n",
       "       [1.00000000e+00, 3.67267496e-08],\n",
       "       [8.40009570e-01, 1.59990355e-01],\n",
       "       [9.04960930e-02, 9.09503877e-01],\n",
       "       [1.76773723e-02, 9.82322633e-01],\n",
       "       [9.99987960e-01, 1.19828310e-05],\n",
       "       [9.99996185e-01, 3.80338156e-06],\n",
       "       [3.53144795e-01, 6.46855235e-01],\n",
       "       [1.00000000e+00, 2.28304639e-10],\n",
       "       [1.00000000e+00, 1.04305720e-08],\n",
       "       [1.00000000e+00, 3.42574219e-10],\n",
       "       [1.37761151e-02, 9.86223817e-01],\n",
       "       [3.97734232e-02, 9.60226655e-01],\n",
       "       [9.99374211e-01, 6.25758665e-04],\n",
       "       [1.42646516e-02, 9.85735357e-01],\n",
       "       [9.95266914e-01, 4.73307259e-03],\n",
       "       [9.99698520e-01, 3.01526597e-04],\n",
       "       [9.99953866e-01, 4.61164418e-05],\n",
       "       [3.28191109e-02, 9.67180848e-01],\n",
       "       [5.73440082e-02, 9.42655981e-01],\n",
       "       [6.94111437e-02, 9.30588841e-01],\n",
       "       [9.12278295e-01, 8.77216533e-02],\n",
       "       [5.47728166e-02, 9.45227206e-01],\n",
       "       [5.46114855e-02, 9.45388496e-01],\n",
       "       [1.01961784e-01, 8.98038208e-01],\n",
       "       [1.00000000e+00, 3.71410913e-20],\n",
       "       [9.95868325e-01, 4.13167197e-03],\n",
       "       [1.00000000e+00, 5.90258483e-23],\n",
       "       [1.00000000e+00, 9.36840189e-12],\n",
       "       [1.00000000e+00, 2.83151169e-09],\n",
       "       [1.00000000e+00, 3.75627431e-18],\n",
       "       [9.99994755e-01, 5.26005897e-06],\n",
       "       [2.28735059e-02, 9.77126420e-01],\n",
       "       [1.00000000e+00, 1.71518995e-08],\n",
       "       [3.58411908e-01, 6.41588092e-01],\n",
       "       [9.99998808e-01, 1.13851206e-06],\n",
       "       [7.31986165e-02, 9.26801383e-01],\n",
       "       [9.99939203e-01, 6.07401344e-05],\n",
       "       [9.99978662e-01, 2.13375242e-05],\n",
       "       [9.99993443e-01, 6.54093674e-06],\n",
       "       [8.62065971e-01, 1.37933999e-01],\n",
       "       [1.00000000e+00, 1.10069021e-08],\n",
       "       [1.00000000e+00, 5.30256017e-08],\n",
       "       [1.66391023e-02, 9.83360887e-01],\n",
       "       [9.99994993e-01, 5.04573427e-06],\n",
       "       [1.00000000e+00, 1.28314248e-10],\n",
       "       [9.99989271e-01, 1.07705273e-05],\n",
       "       [9.94883597e-01, 5.11640823e-03],\n",
       "       [1.92181468e-02, 9.80781913e-01],\n",
       "       [7.59448558e-02, 9.24055159e-01],\n",
       "       [9.99996185e-01, 3.79213566e-06],\n",
       "       [9.98855829e-01, 1.14419824e-03],\n",
       "       [9.99996662e-01, 3.32263858e-06],\n",
       "       [9.99970078e-01, 2.98676987e-05],\n",
       "       [7.98048638e-03, 9.92019475e-01],\n",
       "       [1.00000000e+00, 1.77849729e-20],\n",
       "       [9.99283254e-01, 7.16754759e-04],\n",
       "       [1.14530493e-02, 9.88546968e-01],\n",
       "       [9.98836696e-01, 1.16329605e-03],\n",
       "       [1.00000000e+00, 8.48659631e-09],\n",
       "       [6.85669333e-02, 9.31433022e-01],\n",
       "       [9.99999881e-01, 9.64887619e-08],\n",
       "       [9.81153369e-01, 1.88465975e-02],\n",
       "       [8.30085814e-01, 1.69914231e-01],\n",
       "       [5.66731580e-02, 9.43326771e-01],\n",
       "       [4.02254611e-02, 9.59774554e-01],\n",
       "       [1.00000000e+00, 6.15719238e-12],\n",
       "       [3.89742926e-02, 9.61025715e-01],\n",
       "       [9.99952316e-01, 4.77137182e-05],\n",
       "       [2.28529591e-02, 9.77147043e-01],\n",
       "       [9.99987602e-01, 1.23383625e-05],\n",
       "       [1.00000000e+00, 2.47779279e-14],\n",
       "       [9.99999762e-01, 2.61026003e-07],\n",
       "       [1.00000000e+00, 3.33902415e-12],\n",
       "       [1.00000000e+00, 2.71479772e-09],\n",
       "       [6.93746984e-01, 3.06253076e-01]], dtype=float32)"
      ]
     },
     "execution_count": 54,
     "metadata": {},
     "output_type": "execute_result"
    }
   ],
   "source": [
    "y_pred=model.predict(test_set)\n",
    "y_pred"
   ]
  },
  {
   "cell_type": "code",
   "execution_count": 55,
   "metadata": {},
   "outputs": [
    {
     "data": {
      "text/plain": [
       "array([1, 0, 0, 0, 0, 1, 0, 0, 0, 0, 1, 1, 0, 0, 0, 1, 1, 1, 0, 1, 1, 1,\n",
       "       0, 1, 0, 1, 1, 1, 0, 0, 0, 0, 0, 1, 1, 0, 1, 1, 0, 0, 1, 0, 0, 0,\n",
       "       1, 0, 1, 0, 0, 1, 0, 0, 0, 0, 0, 1, 1, 1, 0, 0, 0, 1, 1, 0, 0, 1,\n",
       "       0, 0, 0, 1, 1, 0, 1, 0, 0, 0, 1, 1, 1, 0, 1, 1, 1, 0, 0, 0, 0, 0,\n",
       "       0, 0, 1, 0, 1, 0, 1, 0, 0, 0, 0, 0, 0, 1, 0, 0, 0, 0, 1, 1, 0, 0,\n",
       "       0, 0, 1, 0, 0, 1, 0, 0, 1, 0, 0, 0, 1, 1, 0, 1, 0, 1, 0, 0, 0, 0,\n",
       "       0, 0], dtype=int64)"
      ]
     },
     "execution_count": 55,
     "metadata": {},
     "output_type": "execute_result"
    }
   ],
   "source": [
    "import numpy as np\n",
    "y_pred= np.argmax(y_pred, axis=1)\n",
    "y_pred"
   ]
  },
  {
   "cell_type": "code",
   "execution_count": 56,
   "metadata": {},
   "outputs": [],
   "source": [
    "#Lets do some testing, first load the model\n",
    "from tensorflow.keras.models import load_model\n",
    "from tensorflow.keras.preprocessing import image"
   ]
  },
  {
   "cell_type": "code",
   "execution_count": 57,
   "metadata": {},
   "outputs": [],
   "source": [
    "model=load_model('model_vgg19.h5')\n",
    "\n",
    "#load image to test\n",
    "img= image.load_img('Dataset/Test/Uninfected/C3thin_original_IMG_20150608_163047_cell_22.png',target_size=(224,224))"
   ]
  },
  {
   "cell_type": "code",
   "execution_count": 59,
   "metadata": {},
   "outputs": [],
   "source": [
    "x=image.img_to_array(img)\n",
    "x\n",
    "x.shape\n",
    "x=x/255\n",
    "x=np.expand_dims(x, axis=0)"
   ]
  },
  {
   "cell_type": "code",
   "execution_count": 20,
   "metadata": {},
   "outputs": [
    {
     "name": "stdout",
     "output_type": "stream",
     "text": [
      "[[[[0. 0. 0.]\n",
      "   [0. 0. 0.]\n",
      "   [0. 0. 0.]\n",
      "   ...\n",
      "   [0. 0. 0.]\n",
      "   [0. 0. 0.]\n",
      "   [0. 0. 0.]]\n",
      "\n",
      "  [[0. 0. 0.]\n",
      "   [0. 0. 0.]\n",
      "   [0. 0. 0.]\n",
      "   ...\n",
      "   [0. 0. 0.]\n",
      "   [0. 0. 0.]\n",
      "   [0. 0. 0.]]\n",
      "\n",
      "  [[0. 0. 0.]\n",
      "   [0. 0. 0.]\n",
      "   [0. 0. 0.]\n",
      "   ...\n",
      "   [0. 0. 0.]\n",
      "   [0. 0. 0.]\n",
      "   [0. 0. 0.]]\n",
      "\n",
      "  ...\n",
      "\n",
      "  [[0. 0. 0.]\n",
      "   [0. 0. 0.]\n",
      "   [0. 0. 0.]\n",
      "   ...\n",
      "   [0. 0. 0.]\n",
      "   [0. 0. 0.]\n",
      "   [0. 0. 0.]]\n",
      "\n",
      "  [[0. 0. 0.]\n",
      "   [0. 0. 0.]\n",
      "   [0. 0. 0.]\n",
      "   ...\n",
      "   [0. 0. 0.]\n",
      "   [0. 0. 0.]\n",
      "   [0. 0. 0.]]\n",
      "\n",
      "  [[0. 0. 0.]\n",
      "   [0. 0. 0.]\n",
      "   [0. 0. 0.]\n",
      "   ...\n",
      "   [0. 0. 0.]\n",
      "   [0. 0. 0.]\n",
      "   [0. 0. 0.]]]]\n"
     ]
    }
   ],
   "source": [
    "print(x)"
   ]
  },
  {
   "cell_type": "code",
   "execution_count": 60,
   "metadata": {},
   "outputs": [
    {
     "data": {
      "text/plain": [
       "(1, 224, 224, 3)"
      ]
     },
     "execution_count": 60,
     "metadata": {},
     "output_type": "execute_result"
    }
   ],
   "source": [
    "img_data=preprocess_input(x)\n",
    "img_data.shape"
   ]
  },
  {
   "cell_type": "code",
   "execution_count": 62,
   "metadata": {},
   "outputs": [
    {
     "data": {
      "text/plain": [
       "array([[0., 1.]], dtype=float32)"
      ]
     },
     "execution_count": 62,
     "metadata": {},
     "output_type": "execute_result"
    }
   ],
   "source": [
    "model.predict(img_data)"
   ]
  },
  {
   "cell_type": "code",
   "execution_count": 63,
   "metadata": {},
   "outputs": [
    {
     "name": "stdout",
     "output_type": "stream",
     "text": [
      "[1]\n"
     ]
    }
   ],
   "source": [
    "a=np.argmax(model.predict(img_data),axis=1)\n",
    "print(a)"
   ]
  },
  {
   "cell_type": "code",
   "execution_count": 64,
   "metadata": {},
   "outputs": [
    {
     "name": "stdout",
     "output_type": "stream",
     "text": [
      "Uninfected\n"
     ]
    }
   ],
   "source": [
    "if(a==1):\n",
    "    print(\"Uninfected\")\n",
    "else:\n",
    "    print(\"Infected\")"
   ]
  },
  {
   "cell_type": "code",
   "execution_count": null,
   "metadata": {},
   "outputs": [],
   "source": []
  }
 ],
 "metadata": {
  "kernelspec": {
   "display_name": "Python 3",
   "language": "python",
   "name": "python3"
  },
  "language_info": {
   "codemirror_mode": {
    "name": "ipython",
    "version": 3
   },
   "file_extension": ".py",
   "mimetype": "text/x-python",
   "name": "python",
   "nbconvert_exporter": "python",
   "pygments_lexer": "ipython3",
   "version": "3.8.5"
  }
 },
 "nbformat": 4,
 "nbformat_minor": 4
}
